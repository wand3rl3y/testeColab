{
  "nbformat": 4,
  "nbformat_minor": 0,
  "metadata": {
    "colab": {
      "name": "Testes.ipynb",
      "provenance": [],
      "authorship_tag": "ABX9TyP2XWrg4QCw2F8clgHlcK92",
      "include_colab_link": true
    },
    "kernelspec": {
      "name": "python3",
      "display_name": "Python 3"
    },
    "language_info": {
      "name": "python"
    }
  },
  "cells": [
    {
      "cell_type": "markdown",
      "metadata": {
        "id": "view-in-github",
        "colab_type": "text"
      },
      "source": [
        "<a href=\"https://colab.research.google.com/github/wand3rl3y/testeColab/blob/main/Testes.ipynb\" target=\"_parent\"><img src=\"https://colab.research.google.com/assets/colab-badge.svg\" alt=\"Open In Colab\"/></a>"
      ]
    },
    {
      "cell_type": "markdown",
      "source": [
        "# Este e meu primeiro teste no Colab"
      ],
      "metadata": {
        "id": "tCCBQ6Ji5n-I"
      }
    },
    {
      "cell_type": "code",
      "source": [
        "msg = 'Teste do Colab'\n",
        "print(msg)"
      ],
      "metadata": {
        "colab": {
          "base_uri": "https://localhost:8080/"
        },
        "id": "nb6YpH-D5yVz",
        "outputId": "2086df89-2e47-4cad-ee7a-0aafb752f8e0"
      },
      "execution_count": 1,
      "outputs": [
        {
          "output_type": "stream",
          "name": "stdout",
          "text": [
            "Teste do Colab\n"
          ]
        }
      ]
    },
    {
      "cell_type": "code",
      "source": [
        "msg2 = 'O colab e meio Lerdo na primeira vez'\n",
        "print(msg2)"
      ],
      "metadata": {
        "colab": {
          "base_uri": "https://localhost:8080/"
        },
        "id": "n-l5lw_f5-a5",
        "outputId": "606ce62b-fe09-4115-effa-e87b902a6ac5"
      },
      "execution_count": 3,
      "outputs": [
        {
          "output_type": "stream",
          "name": "stdout",
          "text": [
            "O colab e meio Lerdo na primeira vez\n"
          ]
        }
      ]
    }
  ]
}